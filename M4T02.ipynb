{
 "cells": [
  {
   "cell_type": "markdown",
   "id": "32d549cb",
   "metadata": {},
   "source": [
    "### Exercici 2"
   ]
  },
  {
   "cell_type": "code",
   "execution_count": 101,
   "id": "20fc5eeb",
   "metadata": {},
   "outputs": [
    {
     "data": {
      "text/html": [
       "<div>\n",
       "<style scoped>\n",
       "    .dataframe tbody tr th:only-of-type {\n",
       "        vertical-align: middle;\n",
       "    }\n",
       "\n",
       "    .dataframe tbody tr th {\n",
       "        vertical-align: top;\n",
       "    }\n",
       "\n",
       "    .dataframe thead th {\n",
       "        text-align: right;\n",
       "    }\n",
       "</style>\n",
       "<table border=\"1\" class=\"dataframe\">\n",
       "  <thead>\n",
       "    <tr style=\"text-align: right;\">\n",
       "      <th></th>\n",
       "      <th>Movie_id</th>\n",
       "      <th>Titulo</th>\n",
       "      <th>Genero</th>\n",
       "    </tr>\n",
       "  </thead>\n",
       "  <tbody>\n",
       "    <tr>\n",
       "      <th>0</th>\n",
       "      <td>1</td>\n",
       "      <td>Toy Story (1995)</td>\n",
       "      <td>Animation|Children's|Comedy</td>\n",
       "    </tr>\n",
       "    <tr>\n",
       "      <th>1</th>\n",
       "      <td>2</td>\n",
       "      <td>Jumanji (1995)</td>\n",
       "      <td>Adventure|Children's|Fantasy</td>\n",
       "    </tr>\n",
       "    <tr>\n",
       "      <th>2</th>\n",
       "      <td>3</td>\n",
       "      <td>Grumpier Old Men (1995)</td>\n",
       "      <td>Comedy|Romance</td>\n",
       "    </tr>\n",
       "    <tr>\n",
       "      <th>3</th>\n",
       "      <td>4</td>\n",
       "      <td>Waiting to Exhale (1995)</td>\n",
       "      <td>Comedy|Drama</td>\n",
       "    </tr>\n",
       "    <tr>\n",
       "      <th>4</th>\n",
       "      <td>5</td>\n",
       "      <td>Father of the Bride Part II (1995)</td>\n",
       "      <td>Comedy</td>\n",
       "    </tr>\n",
       "  </tbody>\n",
       "</table>\n",
       "</div>"
      ],
      "text/plain": [
       "   Movie_id                              Titulo                        Genero\n",
       "0         1                    Toy Story (1995)   Animation|Children's|Comedy\n",
       "1         2                      Jumanji (1995)  Adventure|Children's|Fantasy\n",
       "2         3             Grumpier Old Men (1995)                Comedy|Romance\n",
       "3         4            Waiting to Exhale (1995)                  Comedy|Drama\n",
       "4         5  Father of the Bride Part II (1995)                        Comedy"
      ]
     },
     "execution_count": 101,
     "metadata": {},
     "output_type": "execute_result"
    }
   ],
   "source": [
    "import numpy as np\n",
    "import pandas as pd\n",
    "import matplotlib.pyplot as plt\n",
    "import seaborn as sns\n",
    "import warnings\n",
    "\n",
    "warnings.filterwarnings('ignore')\n",
    "\n",
    "movies = pd.read_table('/Users/alexvalles/Desktop/Data Science/Curso Data Science Presencial/Sprint 4/movies.dat', sep = '::', names = ['Movie_id', 'Titulo', 'Genero'], encoding = 'ISO-8859-1')\n",
    "movies.head()"
   ]
  },
  {
   "cell_type": "code",
   "execution_count": 102,
   "id": "69cdb190",
   "metadata": {},
   "outputs": [
    {
     "data": {
      "text/plain": [
       "(3883, 3)"
      ]
     },
     "execution_count": 102,
     "metadata": {},
     "output_type": "execute_result"
    }
   ],
   "source": [
    "movies.shape"
   ]
  },
  {
   "cell_type": "code",
   "execution_count": 103,
   "id": "735a30cc",
   "metadata": {},
   "outputs": [
    {
     "data": {
      "text/html": [
       "<div>\n",
       "<style scoped>\n",
       "    .dataframe tbody tr th:only-of-type {\n",
       "        vertical-align: middle;\n",
       "    }\n",
       "\n",
       "    .dataframe tbody tr th {\n",
       "        vertical-align: top;\n",
       "    }\n",
       "\n",
       "    .dataframe thead th {\n",
       "        text-align: right;\n",
       "    }\n",
       "</style>\n",
       "<table border=\"1\" class=\"dataframe\">\n",
       "  <thead>\n",
       "    <tr style=\"text-align: right;\">\n",
       "      <th></th>\n",
       "      <th>Movie_id</th>\n",
       "      <th>Titulo</th>\n",
       "      <th>Genero</th>\n",
       "    </tr>\n",
       "  </thead>\n",
       "  <tbody>\n",
       "    <tr>\n",
       "      <th>0</th>\n",
       "      <td>1</td>\n",
       "      <td>Toy Story (1995)</td>\n",
       "      <td>Animation|Children's|Comedy</td>\n",
       "    </tr>\n",
       "    <tr>\n",
       "      <th>1</th>\n",
       "      <td>2</td>\n",
       "      <td>Jumanji (1995)</td>\n",
       "      <td>Adventure|Children's|Fantasy</td>\n",
       "    </tr>\n",
       "    <tr>\n",
       "      <th>2</th>\n",
       "      <td>3</td>\n",
       "      <td>Grumpier Old Men (1995)</td>\n",
       "      <td>Comedy|Romance</td>\n",
       "    </tr>\n",
       "    <tr>\n",
       "      <th>3</th>\n",
       "      <td>4</td>\n",
       "      <td>Waiting to Exhale (1995)</td>\n",
       "      <td>Comedy|Drama</td>\n",
       "    </tr>\n",
       "    <tr>\n",
       "      <th>4</th>\n",
       "      <td>5</td>\n",
       "      <td>Father of the Bride Part II (1995)</td>\n",
       "      <td>Comedy</td>\n",
       "    </tr>\n",
       "    <tr>\n",
       "      <th>5</th>\n",
       "      <td>6</td>\n",
       "      <td>Heat (1995)</td>\n",
       "      <td>Action|Crime|Thriller</td>\n",
       "    </tr>\n",
       "    <tr>\n",
       "      <th>6</th>\n",
       "      <td>7</td>\n",
       "      <td>Sabrina (1995)</td>\n",
       "      <td>Comedy|Romance</td>\n",
       "    </tr>\n",
       "    <tr>\n",
       "      <th>7</th>\n",
       "      <td>8</td>\n",
       "      <td>Tom and Huck (1995)</td>\n",
       "      <td>Adventure|Children's</td>\n",
       "    </tr>\n",
       "    <tr>\n",
       "      <th>8</th>\n",
       "      <td>9</td>\n",
       "      <td>Sudden Death (1995)</td>\n",
       "      <td>Action</td>\n",
       "    </tr>\n",
       "    <tr>\n",
       "      <th>9</th>\n",
       "      <td>10</td>\n",
       "      <td>GoldenEye (1995)</td>\n",
       "      <td>Action|Adventure|Thriller</td>\n",
       "    </tr>\n",
       "  </tbody>\n",
       "</table>\n",
       "</div>"
      ],
      "text/plain": [
       "   Movie_id                              Titulo                        Genero\n",
       "0         1                    Toy Story (1995)   Animation|Children's|Comedy\n",
       "1         2                      Jumanji (1995)  Adventure|Children's|Fantasy\n",
       "2         3             Grumpier Old Men (1995)                Comedy|Romance\n",
       "3         4            Waiting to Exhale (1995)                  Comedy|Drama\n",
       "4         5  Father of the Bride Part II (1995)                        Comedy\n",
       "5         6                         Heat (1995)         Action|Crime|Thriller\n",
       "6         7                      Sabrina (1995)                Comedy|Romance\n",
       "7         8                 Tom and Huck (1995)          Adventure|Children's\n",
       "8         9                 Sudden Death (1995)                        Action\n",
       "9        10                    GoldenEye (1995)     Action|Adventure|Thriller"
      ]
     },
     "execution_count": 103,
     "metadata": {},
     "output_type": "execute_result"
    }
   ],
   "source": [
    "movies.head(10)"
   ]
  },
  {
   "cell_type": "code",
   "execution_count": 104,
   "id": "be068cd1",
   "metadata": {},
   "outputs": [
    {
     "name": "stdout",
     "output_type": "stream",
     "text": [
      "      Movie_id                              Titulo  \\\n",
      "0            1                    Toy Story (1995)   \n",
      "1            2                      Jumanji (1995)   \n",
      "2            3             Grumpier Old Men (1995)   \n",
      "3            4            Waiting to Exhale (1995)   \n",
      "4            5  Father of the Bride Part II (1995)   \n",
      "...        ...                                 ...   \n",
      "3878      3948             Meet the Parents (2000)   \n",
      "3879      3949          Requiem for a Dream (2000)   \n",
      "3880      3950                    Tigerland (2000)   \n",
      "3881      3951             Two Family House (2000)   \n",
      "3882      3952               Contender, The (2000)   \n",
      "\n",
      "                            Genero   Año  \n",
      "0      Animation|Children's|Comedy  1995  \n",
      "1     Adventure|Children's|Fantasy  1995  \n",
      "2                   Comedy|Romance  1995  \n",
      "3                     Comedy|Drama  1995  \n",
      "4                           Comedy  1995  \n",
      "...                            ...   ...  \n",
      "3878                        Comedy  2000  \n",
      "3879                         Drama  2000  \n",
      "3880                         Drama  2000  \n",
      "3881                         Drama  2000  \n",
      "3882                Drama|Thriller  2000  \n",
      "\n",
      "[3883 rows x 4 columns]\n"
     ]
    }
   ],
   "source": [
    "# extraemos el año de la columna título, quedando éste en una nueva columna.\n",
    "\n",
    "movies['Año'] = movies['Titulo'].str.extract(r'\\((\\d{4})\\)')\n",
    "\n",
    "print(movies)"
   ]
  },
  {
   "cell_type": "code",
   "execution_count": 105,
   "id": "6d010696",
   "metadata": {},
   "outputs": [
    {
     "name": "stdout",
     "output_type": "stream",
     "text": [
      "      Movie_id                        Titulo                        Genero  \\\n",
      "0            1                    Toy Story    Animation|Children's|Comedy   \n",
      "1            2                      Jumanji   Adventure|Children's|Fantasy   \n",
      "2            3             Grumpier Old Men                 Comedy|Romance   \n",
      "3            4            Waiting to Exhale                   Comedy|Drama   \n",
      "4            5  Father of the Bride Part II                         Comedy   \n",
      "...        ...                           ...                           ...   \n",
      "3878      3948             Meet the Parents                         Comedy   \n",
      "3879      3949          Requiem for a Dream                          Drama   \n",
      "3880      3950                    Tigerland                          Drama   \n",
      "3881      3951             Two Family House                          Drama   \n",
      "3882      3952               Contender, The                 Drama|Thriller   \n",
      "\n",
      "       Año  \n",
      "0     1995  \n",
      "1     1995  \n",
      "2     1995  \n",
      "3     1995  \n",
      "4     1995  \n",
      "...    ...  \n",
      "3878  2000  \n",
      "3879  2000  \n",
      "3880  2000  \n",
      "3881  2000  \n",
      "3882  2000  \n",
      "\n",
      "[3883 rows x 4 columns]\n"
     ]
    }
   ],
   "source": [
    "movies['Titulo'] = movies['Titulo'].str.replace(r'\\(\\d{4}\\)', '', regex=True)\n",
    "\n",
    "# Mostrar el DataFrame con el año eliminado de la columna 'Titulo'\n",
    "print(movies)"
   ]
  },
  {
   "cell_type": "code",
   "execution_count": 106,
   "id": "82ef7b65",
   "metadata": {},
   "outputs": [
    {
     "name": "stdout",
     "output_type": "stream",
     "text": [
      "      Movie_id                        Titulo     Genero   Año\n",
      "0            1                    Toy Story   Animation  1995\n",
      "1            2                      Jumanji   Adventure  1995\n",
      "2            3             Grumpier Old Men      Comedy  1995\n",
      "3            4            Waiting to Exhale      Comedy  1995\n",
      "4            5  Father of the Bride Part II      Comedy  1995\n",
      "...        ...                           ...        ...   ...\n",
      "3878      3948             Meet the Parents      Comedy  2000\n",
      "3879      3949          Requiem for a Dream       Drama  2000\n",
      "3880      3950                    Tigerland       Drama  2000\n",
      "3881      3951             Two Family House       Drama  2000\n",
      "3882      3952               Contender, The       Drama  2000\n",
      "\n",
      "[3883 rows x 4 columns]\n"
     ]
    }
   ],
   "source": [
    "# editamos el género: eliminamos '|' y dejamos solo un género, \n",
    "# en este caso el primero de todos\n",
    "\n",
    "movies['Genero'] = movies['Genero'].str.split('|').str[0]\n",
    "\n",
    "\n",
    "print(movies)"
   ]
  },
  {
   "cell_type": "code",
   "execution_count": 107,
   "id": "c1b892c1",
   "metadata": {},
   "outputs": [
    {
     "name": "stdout",
     "output_type": "stream",
     "text": [
      "                            Titulo     Genero   Año\n",
      "0                       Toy Story   Animation  1995\n",
      "1                         Jumanji   Adventure  1995\n",
      "2                Grumpier Old Men      Comedy  1995\n",
      "3               Waiting to Exhale      Comedy  1995\n",
      "4     Father of the Bride Part II      Comedy  1995\n",
      "...                            ...        ...   ...\n",
      "3878             Meet the Parents      Comedy  2000\n",
      "3879          Requiem for a Dream       Drama  2000\n",
      "3880                    Tigerland       Drama  2000\n",
      "3881             Two Family House       Drama  2000\n",
      "3882               Contender, The       Drama  2000\n",
      "\n",
      "[3883 rows x 3 columns]\n"
     ]
    }
   ],
   "source": [
    "movies = movies.drop('Movie_id', axis=1)\n",
    "\n",
    "# Ahora dejamos el DataFrame sin la columna 'Movie_id'\n",
    "\n",
    "print(movies)"
   ]
  },
  {
   "cell_type": "code",
   "execution_count": 108,
   "id": "1fe70d32",
   "metadata": {},
   "outputs": [
    {
     "data": {
      "text/html": [
       "<div>\n",
       "<style scoped>\n",
       "    .dataframe tbody tr th:only-of-type {\n",
       "        vertical-align: middle;\n",
       "    }\n",
       "\n",
       "    .dataframe tbody tr th {\n",
       "        vertical-align: top;\n",
       "    }\n",
       "\n",
       "    .dataframe thead th {\n",
       "        text-align: right;\n",
       "    }\n",
       "</style>\n",
       "<table border=\"1\" class=\"dataframe\">\n",
       "  <thead>\n",
       "    <tr style=\"text-align: right;\">\n",
       "      <th></th>\n",
       "      <th>Titulo</th>\n",
       "      <th>Genero</th>\n",
       "      <th>Año</th>\n",
       "    </tr>\n",
       "  </thead>\n",
       "  <tbody>\n",
       "    <tr>\n",
       "      <th>0</th>\n",
       "      <td>Toy Story</td>\n",
       "      <td>Animation</td>\n",
       "      <td>1995</td>\n",
       "    </tr>\n",
       "    <tr>\n",
       "      <th>1</th>\n",
       "      <td>Jumanji</td>\n",
       "      <td>Adventure</td>\n",
       "      <td>1995</td>\n",
       "    </tr>\n",
       "    <tr>\n",
       "      <th>2</th>\n",
       "      <td>Grumpier Old Men</td>\n",
       "      <td>Comedy</td>\n",
       "      <td>1995</td>\n",
       "    </tr>\n",
       "    <tr>\n",
       "      <th>3</th>\n",
       "      <td>Waiting to Exhale</td>\n",
       "      <td>Comedy</td>\n",
       "      <td>1995</td>\n",
       "    </tr>\n",
       "    <tr>\n",
       "      <th>4</th>\n",
       "      <td>Father of the Bride Part II</td>\n",
       "      <td>Comedy</td>\n",
       "      <td>1995</td>\n",
       "    </tr>\n",
       "    <tr>\n",
       "      <th>...</th>\n",
       "      <td>...</td>\n",
       "      <td>...</td>\n",
       "      <td>...</td>\n",
       "    </tr>\n",
       "    <tr>\n",
       "      <th>3878</th>\n",
       "      <td>Meet the Parents</td>\n",
       "      <td>Comedy</td>\n",
       "      <td>2000</td>\n",
       "    </tr>\n",
       "    <tr>\n",
       "      <th>3879</th>\n",
       "      <td>Requiem for a Dream</td>\n",
       "      <td>Drama</td>\n",
       "      <td>2000</td>\n",
       "    </tr>\n",
       "    <tr>\n",
       "      <th>3880</th>\n",
       "      <td>Tigerland</td>\n",
       "      <td>Drama</td>\n",
       "      <td>2000</td>\n",
       "    </tr>\n",
       "    <tr>\n",
       "      <th>3881</th>\n",
       "      <td>Two Family House</td>\n",
       "      <td>Drama</td>\n",
       "      <td>2000</td>\n",
       "    </tr>\n",
       "    <tr>\n",
       "      <th>3882</th>\n",
       "      <td>Contender, The</td>\n",
       "      <td>Drama</td>\n",
       "      <td>2000</td>\n",
       "    </tr>\n",
       "  </tbody>\n",
       "</table>\n",
       "<p>3883 rows × 3 columns</p>\n",
       "</div>"
      ],
      "text/plain": [
       "                            Titulo     Genero   Año\n",
       "0                       Toy Story   Animation  1995\n",
       "1                         Jumanji   Adventure  1995\n",
       "2                Grumpier Old Men      Comedy  1995\n",
       "3               Waiting to Exhale      Comedy  1995\n",
       "4     Father of the Bride Part II      Comedy  1995\n",
       "...                            ...        ...   ...\n",
       "3878             Meet the Parents      Comedy  2000\n",
       "3879          Requiem for a Dream       Drama  2000\n",
       "3880                    Tigerland       Drama  2000\n",
       "3881             Two Family House       Drama  2000\n",
       "3882               Contender, The       Drama  2000\n",
       "\n",
       "[3883 rows x 3 columns]"
      ]
     },
     "execution_count": 108,
     "metadata": {},
     "output_type": "execute_result"
    }
   ],
   "source": [
    "# Ya tenemos el dataframe depurado, con las columnas Título, Género (sólo 1) y año\n",
    "\n",
    "movies"
   ]
  },
  {
   "cell_type": "markdown",
   "id": "58e1b4ba",
   "metadata": {},
   "source": [
    "### Exercici 3"
   ]
  },
  {
   "cell_type": "markdown",
   "id": "37f77c78",
   "metadata": {},
   "source": [
    "#### 3.1 --> Gráfica de los 10 años con más películas estrenadas:"
   ]
  },
  {
   "cell_type": "code",
   "execution_count": 109,
   "id": "405168e3",
   "metadata": {},
   "outputs": [
    {
     "name": "stdout",
     "output_type": "stream",
     "text": [
      "1996    345\n",
      "1995    342\n",
      "1998    337\n",
      "1997    315\n",
      "1999    283\n",
      "       ... \n",
      "1923      3\n",
      "1919      3\n",
      "1922      2\n",
      "1920      2\n",
      "1921      1\n",
      "Name: Año, Length: 81, dtype: int64\n"
     ]
    },
    {
     "data": {
      "image/png": "[encoded data removed]",
      "text/plain": [
       "<Figure size 1200x600 with 1 Axes>"
      ]
     },
     "metadata": {},
     "output_type": "display_data"
    }
   ],
   "source": [
    "# Contamos la cantidad de películas por año\n",
    "count_años = movies['Año'].value_counts()\n",
    "print(count_años)\n",
    "\n",
    "# Seleccionamos los 10 años con más películas\n",
    "top_10 = count_años.head(10)\n",
    "\n",
    "# Creamos un gráfico de barras\n",
    "plt.figure(figsize=(12, 6))\n",
    "plt.bar(top_10.index, top_10.values, color='lightblue')\n",
    "plt.title('TOP-10 años con más películas estrenadas')\n",
    "plt.xlabel('Año')\n",
    "plt.ylabel('Cantidad de películas')\n",
    "\n",
    "\n",
    "plt.show()"
   ]
  },
  {
   "cell_type": "markdown",
   "id": "28f31af4",
   "metadata": {},
   "source": [
    "Con esta gráfica visualizamos una lista de los 10 años en los que han habido más estrenos de películas (\"Top 10\" de estrenos), de cualquier género. Vemos que se concentran en los años 90 principalmente, encabezando esta lista, el año 1996 con casi 345 películas, seguido de los años 1995 (342 películas), 1998 (337 pelis) y 1997 (315 pelis).\n"
   ]
  },
  {
   "cell_type": "markdown",
   "id": "84801d6c",
   "metadata": {},
   "source": [
    "#### 3.2 --> Gráfica de número de películas por género:"
   ]
  },
  {
   "cell_type": "code",
   "execution_count": 110,
   "id": "a8e27e01",
   "metadata": {},
   "outputs": [
    {
     "name": "stdout",
     "output_type": "stream",
     "text": [
      "Drama          1176\n",
      "Comedy         1024\n",
      "Action          503\n",
      "Horror          262\n",
      "Adventure       155\n",
      "Crime           131\n",
      "Documentary     123\n",
      "Thriller        101\n",
      "Animation        90\n",
      "Children's       89\n",
      "Romance          50\n",
      "Sci-Fi           46\n",
      "Mystery          36\n",
      "Western          33\n",
      "Film-Noir        25\n",
      "Musical          25\n",
      "War              12\n",
      "Fantasy           2\n",
      "Name: Genero, dtype: int64\n"
     ]
    },
    {
     "data": {
      "image/png": "[encoded data removed]",
      "text/plain": [
       "<Figure size 1200x600 with 1 Axes>"
      ]
     },
     "metadata": {},
     "output_type": "display_data"
    }
   ],
   "source": [
    "count_generos = movies['Genero'].value_counts()\n",
    "\n",
    "print(count_generos)\n",
    "\n",
    "# Obtener el género con más películas\n",
    "genero_mas_frecuente = count_generos.idxmax()\n",
    "\n",
    "# hacemos gráfico de barras\n",
    "\n",
    "plt.figure(figsize=(12, 6))\n",
    "count_generos.plot(kind='bar', color='lightgreen')\n",
    "plt.title('Número de películas por género')\n",
    "plt.xlabel('Género')\n",
    "plt.ylabel('Cantidad de películas')\n",
    "plt.xticks(rotation=45)\n",
    "\n",
    "plt.show()"
   ]
  },
  {
   "cell_type": "markdown",
   "id": "a0e17ad5",
   "metadata": {},
   "source": [
    "Los géneros de películas con más estrenos a lo largo de los años (en todo nuestro dataframe), son en primer lugar los dramas (con 1176 películas estrenadas), seguido de comedias (1024 estrenos) y películas de acción (503 estrenos). Por los contrario, los géneros menos frecuentes son las películas de fantasía (sólo 2 peliculas), bélicas (12 estrenos) y musicales (25 estrenos), entre otros."
   ]
  }
 ],
 "metadata": {
  "kernelspec": {
   "display_name": "Python 3 (ipykernel)",
   "language": "python",
   "name": "python3"
  },
  "language_info": {
   "codemirror_mode": {
    "name": "ipython",
    "version": 3
   },
   "file_extension": ".py",
   "mimetype": "text/x-python",
   "name": "python",
   "nbconvert_exporter": "python",
   "pygments_lexer": "ipython3",
   "version": "3.10.9"
  }
 },
 "nbformat": 4,
 "nbformat_minor": 5
}
